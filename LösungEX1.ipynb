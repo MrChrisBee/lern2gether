{
 "cells": [
  {
   "cell_type": "markdown",
   "id": "a8d47d52",
   "metadata": {},
   "source": [
    "## Problem Description\n",
    "### Write a program that takes a number n and computes n+nn+nnn."
   ]
  },
  {
   "cell_type": "code",
   "execution_count": 143,
   "id": "cd21482d",
   "metadata": {},
   "outputs": [],
   "source": [
    "#zu meinem verständnis der aufgabe\n",
    "#nn = n*n 5 + 25 + 125 kommt mit dem ergebnis nicht hin\n",
    "#5 + 55 + 555 615? also nicht multiplizieren sondern ... wie nennt man das ?"
   ]
  },
  {
   "cell_type": "code",
   "execution_count": 145,
   "id": "3f6adc6e",
   "metadata": {},
   "outputs": [],
   "source": [
    "# funktion nicht notwendig aber vielleicht eine gute Übung\n",
    "\n",
    "def ncaster(n, m=3):\n",
    "    \"\"\"\n",
    "    let input 5 be 5 + 55 + 555 = 615\n",
    "    in: int \n",
    "    out: int\n",
    "    \"\"\"\n",
    "    \n",
    "    s_n = str(n) #konventions4vars in python?\n",
    "    i = 0       \n",
    "    \n",
    "    #ich WILL ein int!!!\n",
    "    if type(n) != int or type(m) != int:\n",
    "        print(\"\\n\", end = \"\\n\\n\")\n",
    "        help(npnnpnnn) #ginge hier auch irgendwie self?\n",
    "        return\n",
    "    \n",
    "    for c in range(1,m+1): # int: from 1 to 3 in iteration\n",
    "        s = \"\"\n",
    "        for _ in range(c): #_ only for the iteraton\n",
    "            s = s + s_n    #create a string e.g. \"1\" \"11\" \"111\" each iteration\n",
    "        i = i + int(s)     #add this string (converted to int) to i\n",
    "\n",
    "    return i"
   ]
  },
  {
   "cell_type": "code",
   "execution_count": 157,
   "id": "a6bd2415",
   "metadata": {},
   "outputs": [
    {
     "name": "stdout",
     "output_type": "stream",
     "text": [
      "123\n",
      "0 12345 24690 37035 49380 61725 74070 86415 98760 111105 1020304050 "
     ]
    }
   ],
   "source": [
    "#solution\n",
    "print(ncaster(1))\n",
    "\n",
    "for a in range(11):\n",
    "    #using the optional parameter\n",
    "    b = 5 #nnnnn\n",
    "    print(ncaster(a,b),end= \" \")"
   ]
  },
  {
   "cell_type": "markdown",
   "id": "4d5c3ed5",
   "metadata": {},
   "source": [
    "# Problem Description\n",
    "## Write a program that takes a number and reverses it."
   ]
  },
  {
   "cell_type": "code",
   "execution_count": 90,
   "id": "ae919dce",
   "metadata": {},
   "outputs": [],
   "source": [
    "def reverseNumber(n):\n",
    "    \"\"\"a program that takes a number and reverses it.\n",
    "    in: int\n",
    "    out: int\n",
    "    example: reverseNumber(123) returns 321\n",
    "    \"\"\"\n",
    "    if type(n) != int:\n",
    "        print('\\nPlease use int only!\\n')\n",
    "        help(reverseNumber)\n",
    "        return\n",
    "         \n",
    "    return int(\"\".join(list(reversed([number for number in str(n)]))))"
   ]
  },
  {
   "cell_type": "code",
   "execution_count": 91,
   "id": "92ebfb48",
   "metadata": {},
   "outputs": [
    {
     "data": {
      "text/plain": [
       "654"
      ]
     },
     "execution_count": 91,
     "metadata": {},
     "output_type": "execute_result"
    }
   ],
   "source": [
    "reverseNumber(456)"
   ]
  },
  {
   "cell_type": "markdown",
   "id": "ff4effee",
   "metadata": {},
   "source": [
    "## how does this work?"
   ]
  },
  {
   "cell_type": "code",
   "execution_count": 115,
   "id": "ec509b59",
   "metadata": {},
   "outputs": [
    {
     "name": "stdout",
     "output_type": "stream",
     "text": [
      "['3', '2', '1']\n",
      "321\n"
     ]
    },
    {
     "data": {
      "text/plain": [
       "321"
      ]
     },
     "execution_count": 115,
     "metadata": {},
     "output_type": "execute_result"
    }
   ],
   "source": [
    "#string 2 list \n",
    "l = [number for number in \"1345\"] #list comprehension\n",
    "#print(type([number for number in \"1345\"]))\n",
    "#print(f\"{l = }\")  #\"debugging\" in f strings (python 3.8>)\n",
    "#gegeben ist ein int also umwandeln in einen string \n",
    "n = 123\n",
    "l = [number for number in str(n)] #l enthält nun eine Liste\n",
    "#nun die reihenfolge umdrehen\n",
    "reversed(l) #<list_reverseiterator object at Speicheradresse> bringt also nicht direkt das ergebnis \n",
    "#also den iterator in eine liste umwandeln\n",
    "print(list(reversed(l)))\n",
    "#liste wieder in einen string umwandeln\n",
    "print(\"\".join(list(reversed(l))))\n",
    "#und wieder zum int machen\n",
    "int(\"\".join(list(reversed(l)))) # und für den einzeiler noch l ersetzen\n",
    "\n",
    "#tada ---- aber ist das schnell ? ist das lesbar ? und was wenn der arbeitgeber nach codezeilen bezahlt (aktuell?)\n",
    "int(\"\".join(list(reversed([number for number in str(n)]))))\n"
   ]
  },
  {
   "cell_type": "code",
   "execution_count": null,
   "id": "4c159853",
   "metadata": {},
   "outputs": [],
   "source": [
    "\n"
   ]
  },
  {
   "cell_type": "code",
   "execution_count": null,
   "id": "2644fe26",
   "metadata": {},
   "outputs": [],
   "source": []
  }
 ],
 "metadata": {
  "kernelspec": {
   "display_name": "Python 3 (ipykernel)",
   "language": "python",
   "name": "python3"
  },
  "language_info": {
   "codemirror_mode": {
    "name": "ipython",
    "version": 3
   },
   "file_extension": ".py",
   "mimetype": "text/x-python",
   "name": "python",
   "nbconvert_exporter": "python",
   "pygments_lexer": "ipython3",
   "version": "3.9.7"
  }
 },
 "nbformat": 4,
 "nbformat_minor": 5
}
