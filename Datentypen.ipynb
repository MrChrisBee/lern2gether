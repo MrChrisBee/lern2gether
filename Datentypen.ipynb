{
 "cells": [
  {
   "cell_type": "markdown",
   "id": "d2ad4894",
   "metadata": {},
   "source": [
    "# Dictionarys"
   ]
  },
  {
   "cell_type": "markdown",
   "id": "686601ea",
   "metadata": {},
   "source": [
    "Dictionarys {} sind Datenstrukturen in Python.\n",
    "- dictionary deutsch Wörterbuch z.B. wöerter_buch_deutsch = {\"Werkzeug\":\"Tool\",...}\n",
    "- Ein D. kann wirklich viele (Key Value) Eintrage haben, dabei ist es wichtig das der Key-Typ unveränderlich ist.\n",
    "- Nicht alle Keys müssen vom gleichen Typ sein.\n",
    "- Keys müssen einzigartig sein. Ein Zugriff auf einen bestehenden Key überschreibt den zugehörigen Value.\n",
    "- Values könen einen beliebigen Inhalt haben und von einem beliebigen Typ sein."
   ]
  },
  {
   "cell_type": "code",
   "execution_count": 23,
   "id": "f0b0d6a9",
   "metadata": {},
   "outputs": [
    {
     "name": "stdout",
     "output_type": "stream",
     "text": [
      "(1, 2, 3, 4, 5)\n",
      "Value\n",
      "Python\n",
      "Python3\n"
     ]
    }
   ],
   "source": [
    "#Ein Dichtionary erstellen\n",
    "\n",
    "myDict = {\"key\": \"Value\", 1: 'Python', 234: (1,2,3,4,5)}  #ein Dictionary wird erstellt und mit Werten gefüllt\n",
    "#Der Zugriff auf den Value im Dict erfolgt z.B. mit myDict[key] wobei der Name relativ frei wählbar ist\n",
    "print(myDict[234])\n",
    "print(myDict['key'])\n",
    "print(myDict[1])\n",
    "#Zuweisungen erfolgen intiutiv in der Form\n",
    "myDict[1] = \"Python3\"\n",
    "print(myDict[1])"
   ]
  },
  {
   "cell_type": "code",
   "execution_count": 24,
   "id": "38f53deb",
   "metadata": {},
   "outputs": [
    {
     "name": "stdout",
     "output_type": "stream",
     "text": [
      "{1: 0.1, 2: 0.5, 3: 20, 4: 10, 5: 'Treffer', 6: 1, 'noch ein': 'Wert'}\n",
      "{1: 0.1, 2: 0.5, 3: 20, 4: 10, 5: 'Treffer', 6: 1, 'noch ein': 'Wert'}\n"
     ]
    }
   ],
   "source": [
    "#Eine Aufgabe\n",
    "#Erstelle ein Dictionary aus folgenden Dictionarys\n",
    "dict1={1:0.1, 2:0.5}\n",
    "dict2={3:20, 4:10}\n",
    "dict3={5:'Treffer',6:1}\n",
    "\n",
    "dict4 = dict1|dict2|dict3        #neu in Python 3.9 fügt Dictionarys zusammen\n",
    "dict4 |= {'noch ein': \"Wert\"}   #klappt auch erst ab 3.9\n",
    "print(dict4)\n",
    "dict1.update(dict2)\n",
    "dict1.update(dict3)\n",
    "dict1.update({'noch ein': \"Wert\"})\n",
    "print(dict1)"
   ]
  },
  {
   "cell_type": "markdown",
   "id": "0669f59a",
   "metadata": {},
   "source": [
    "### Stelle fest ob ein bestimmter Key in einem Dictionary vorhanden ist"
   ]
  },
  {
   "cell_type": "code",
   "execution_count": 25,
   "id": "ea753a15",
   "metadata": {},
   "outputs": [
    {
     "name": "stdout",
     "output_type": "stream",
     "text": [
      "Element: 'Treffer' gefunden\n"
     ]
    }
   ],
   "source": [
    "if dict4.get(5):\n",
    "    print(f\"Element: '{dict4[5]}' gefunden\")\n",
    "else:\n",
    "    print(\"Das Dictionary hat den gesuchten Schlüßel nicht.\")"
   ]
  },
  {
   "cell_type": "markdown",
   "id": "f4e1272f",
   "metadata": {},
   "source": [
    "### Greife mit hilfe einer Schleife auf die Elemente eines D.  zu"
   ]
  },
  {
   "cell_type": "code",
   "execution_count": 64,
   "id": "71bbf8e7",
   "metadata": {},
   "outputs": [
    {
     "name": "stdout",
     "output_type": "stream",
     "text": [
      "Key = 1 : Value = 0.1\n",
      "Key = 2 : Value = 0.5\n",
      "Key = 3 : Value = 20\n",
      "Key = 4 : Value = 10\n",
      "Key = 5 : Value = Treffer\n",
      "Key = 6 : Value = 1\n",
      "Key = noch ein : Value = Wert\n"
     ]
    }
   ],
   "source": [
    "for k, v in dict4.items():\n",
    "    print(f\"Key = {k} : Value = {v}\")"
   ]
  },
  {
   "cell_type": "markdown",
   "id": "eaf22e3a",
   "metadata": {},
   "source": [
    "### Erstelle ein Programm das einen Dict mit Keys von 1 bis n erstellt, Values sollen das Quadrat des Keys sein."
   ]
  },
  {
   "cell_type": "code",
   "execution_count": 38,
   "id": "95e1a9d3",
   "metadata": {},
   "outputs": [
    {
     "name": "stdout",
     "output_type": "stream",
     "text": [
      "Bitte den letzen Wert für n eingeben: 15\n",
      "{1: 1, 2: 4, 3: 9, 4: 16, 5: 25, 6: 36, 7: 49, 8: 64, 9: 81, 10: 100, 11: 121, 12: 144, 13: 169, 14: 196, 15: 225}\n"
     ]
    }
   ],
   "source": [
    "n = int(input(\"Bitte den letzen Wert für n eingeben: \"))\n",
    "dictN = {}\n",
    "for x in range(1,n+1):\n",
    "    dictN |= {x : x*x}\n",
    "print(dictN)"
   ]
  },
  {
   "cell_type": "markdown",
   "id": "d8d2a2fb",
   "metadata": {},
   "source": [
    "### Hänge Dicts aneinander"
   ]
  },
  {
   "cell_type": "code",
   "execution_count": 44,
   "id": "c5b146ad",
   "metadata": {},
   "outputs": [
    {
     "name": "stdout",
     "output_type": "stream",
     "text": [
      "{1: 'einz', 2: 'zwei'}\n"
     ]
    }
   ],
   "source": [
    "erstes = {1 : 'einz'}\n",
    "zweites = {2 : 'zwei'}\n",
    "\n",
    "erstes.update(zweites)\n",
    "print(erstes)"
   ]
  },
  {
   "cell_type": "markdown",
   "id": "b1d57f09",
   "metadata": {},
   "source": [
    "### Addiere alle Werte eines Dicts"
   ]
  },
  {
   "cell_type": "code",
   "execution_count": 43,
   "id": "ad3344b0",
   "metadata": {},
   "outputs": [
    {
     "name": "stdout",
     "output_type": "stream",
     "text": [
      "385\n"
     ]
    }
   ],
   "source": [
    "testdict = {1: 1, 2: 4, 3: 9, 4: 16, 5: 25, 6: 36, 7: 49, 8: 64, 9: 81, 10: 100}\n",
    "\n",
    "s = sum(testdict.values())\n",
    "\n",
    "print(s)"
   ]
  },
  {
   "cell_type": "markdown",
   "id": "fc040c9e",
   "metadata": {},
   "source": [
    "### Multipliziere alle Werte eines Dicts"
   ]
  },
  {
   "cell_type": "code",
   "execution_count": 48,
   "id": "cdad3072",
   "metadata": {},
   "outputs": [
    {
     "name": "stdout",
     "output_type": "stream",
     "text": [
      "576\n"
     ]
    }
   ],
   "source": [
    "testdict = {1: 1, 2: 4, 3: 9, 4: 16}\n",
    "p = 1\n",
    "for i in testdict.values():\n",
    "    p *= i\n",
    "print(p)"
   ]
  },
  {
   "cell_type": "markdown",
   "id": "fc9577ee",
   "metadata": {},
   "source": [
    "### Erstelle ein Dict aus 2 Listen "
   ]
  },
  {
   "cell_type": "code",
   "execution_count": 51,
   "id": "fe3a4f3e",
   "metadata": {},
   "outputs": [
    {
     "name": "stdout",
     "output_type": "stream",
     "text": [
      "{1: 'einz', 2: 'zwei', 3: 'drei', 4: 'vier', 5: 'fünf'}\n"
     ]
    }
   ],
   "source": [
    "keys = [1,2,3,4,5]\n",
    "values = ['einz','zwei','drei','vier','fünf']\n",
    "kombi = {key: value for key, value in zip(keys, values)}\n",
    "print(kombi)"
   ]
  },
  {
   "cell_type": "markdown",
   "id": "e58e2aa7",
   "metadata": {},
   "source": [
    "### Max und Min aus einer Dict "
   ]
  },
  {
   "cell_type": "code",
   "execution_count": 54,
   "id": "854d68b4",
   "metadata": {},
   "outputs": [
    {
     "name": "stdout",
     "output_type": "stream",
     "text": [
      "16\n",
      "1\n"
     ]
    }
   ],
   "source": [
    "testdict = {1: 1, 2: 4, 3: 9, 4: 16}\n",
    "print(max(testdict.values()))\n",
    "print(min(testdict.values()))"
   ]
  },
  {
   "cell_type": "code",
   "execution_count": 55,
   "id": "fa2e1b23",
   "metadata": {},
   "outputs": [
    {
     "name": "stdout",
     "output_type": "stream",
     "text": [
      "Object `leer` not found.\n"
     ]
    }
   ],
   "source": [
    "Ist das Dict leer?"
   ]
  },
  {
   "cell_type": "markdown",
   "id": "a6d5767e",
   "metadata": {},
   "source": [
    "### Ist das Dict leer"
   ]
  },
  {
   "cell_type": "code",
   "execution_count": 59,
   "id": "0797b0dc",
   "metadata": {},
   "outputs": [
    {
     "name": "stdout",
     "output_type": "stream",
     "text": [
      "Enthält Werte\n"
     ]
    }
   ],
   "source": [
    "testd1 = {1:1}\n",
    "if testd1:\n",
    "    print(\"Enthält Werte\")\n",
    "else:\n",
    "    print(\"Ist Leer\")"
   ]
  },
  {
   "cell_type": "markdown",
   "id": "9ef75fc3",
   "metadata": {},
   "source": [
    "### Werte aus 2 Dicts aufaddieren, gleiche Keys vorrausgesetzt"
   ]
  },
  {
   "cell_type": "code",
   "execution_count": 66,
   "id": "60ae65ec",
   "metadata": {},
   "outputs": [
    {
     "name": "stdout",
     "output_type": "stream",
     "text": [
      "{1: 2, 2: 4, 3: 6}\n"
     ]
    }
   ],
   "source": [
    "erster = {1:1,2:2,3:3}\n",
    "zweiter = {1:1,2:2,3:3}\n",
    "for k, v in erster.items():\n",
    "    erster[k] = zweiter.get(k) + erster.get(k)\n",
    "print(erster)"
   ]
  },
  {
   "cell_type": "markdown",
   "id": "fa5ff89f",
   "metadata": {},
   "source": [
    "### Addiere die Werte aus 2 Dicts und übernehme den Rest"
   ]
  },
  {
   "cell_type": "code",
   "execution_count": 68,
   "id": "a59f1ec8",
   "metadata": {},
   "outputs": [
    {
     "name": "stdout",
     "output_type": "stream",
     "text": [
      "{1: 2, 2: 4, 3: 6, 4: 4}\n"
     ]
    }
   ],
   "source": [
    "erster = {1:1,2:2,3:3,4:4}\n",
    "zweiter = {1:1,2:2,3:3}\n",
    "for k, v in zweiter.items():\n",
    "    if k in erster:\n",
    "        erster[k] = erster[k] + v\n",
    "    else:\n",
    "        erster[k] = v\n",
    "print(erster)\n"
   ]
  },
  {
   "cell_type": "markdown",
   "id": "4a3138ac",
   "metadata": {},
   "source": [
    "### Gib alle Werte eines Dict herraus, keine Doppelung"
   ]
  },
  {
   "cell_type": "code",
   "execution_count": 23,
   "id": "901c5d76",
   "metadata": {},
   "outputs": [
    {
     "name": "stdout",
     "output_type": "stream",
     "text": [
      "{'G', 'O', 'P', 'S', 'R'}\n"
     ]
    }
   ],
   "source": [
    "dict_list = [{\"O\":\"01\"}, {\"S\": \"02\"}, {\"S\": \"01\"}, {\"P\": \"03\"},\n",
    "{\"G\":\"07\"}, {\"G\":\"09\"},{\"R\":\"07\"}]\n",
    "out_set = set() \n",
    "for _dict in dict_list:\n",
    "    for val1 in _dict:\n",
    "        out_set.add(val1)\n",
    "print(out_set)    "
   ]
  },
  {
   "cell_type": "code",
   "execution_count": 13,
   "id": "c5a40177",
   "metadata": {},
   "outputs": [
    {
     "data": {
      "text/plain": [
       "\"dict_keys(['O'])\""
      ]
     },
     "execution_count": 13,
     "metadata": {},
     "output_type": "execute_result"
    }
   ],
   "source": []
  },
  {
   "cell_type": "code",
   "execution_count": null,
   "id": "99c677ed",
   "metadata": {},
   "outputs": [],
   "source": []
  }
 ],
 "metadata": {
  "kernelspec": {
   "display_name": "Python 3 (ipykernel)",
   "language": "python",
   "name": "python3"
  },
  "language_info": {
   "codemirror_mode": {
    "name": "ipython",
    "version": 3
   },
   "file_extension": ".py",
   "mimetype": "text/x-python",
   "name": "python",
   "nbconvert_exporter": "python",
   "pygments_lexer": "ipython3",
   "version": "3.9.7"
  }
 },
 "nbformat": 4,
 "nbformat_minor": 5
}
