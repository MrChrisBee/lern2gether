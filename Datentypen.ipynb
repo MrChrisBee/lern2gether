{
 "cells": [
  {
   "cell_type": "markdown",
   "id": "d2ad4894",
   "metadata": {},
   "source": [
    "# Dictionarys"
   ]
  },
  {
   "cell_type": "markdown",
   "id": "686601ea",
   "metadata": {},
   "source": [
    "Dictionarys {} sind Datenstrukturen in Python.\n",
    "- Ein D. kann wirklich viele (Key Value) Eintrage haben, dabei ist es wichtig das der Key-Typ unveränderlich ist.\n",
    "- Nicht alle Keys müssen vom gleichen Typ sein.\n",
    "- Keys müssen einzigartig sein. Ein Zugriff auf einen bestehenden Key überschreibt den zugehörigen Value.\n",
    "- Values könen einen beliebigen Inhalt haben und von einem beliebigen Typ sein."
   ]
  },
  {
   "cell_type": "code",
   "execution_count": 11,
   "id": "f0b0d6a9",
   "metadata": {},
   "outputs": [
    {
     "name": "stdout",
     "output_type": "stream",
     "text": [
      "(1, 2, 3, 4, 5)\n",
      "Value\n",
      "Python\n",
      "Python3\n"
     ]
    }
   ],
   "source": [
    "#Ein Dichtionary erstellen\n",
    "\n",
    "myDict = {\"key\": \"Value\", 1: 'Python', 234: (1,2,3,4,5)}  #ein Dictionary wird erstellt und mit Werten gefüllt\n",
    "#Der Zugriff auf den Value im Dict erfolgt z.B. mit myDict[key] wobei der Name relativ frei wählbar ist\n",
    "print(myDict[234])\n",
    "print(myDict['key'])\n",
    "print(myDict[1])\n",
    "#Zuweisungen erfolgen intiutiv in der Form\n",
    "myDict[1] = \"Python3\"\n",
    "print(myDict[1])"
   ]
  },
  {
   "cell_type": "code",
   "execution_count": 29,
   "id": "38f53deb",
   "metadata": {},
   "outputs": [
    {
     "name": "stdout",
     "output_type": "stream",
     "text": [
      "{1: 0.1, 2: 0.5, 3: 20, 4: 10, 5: 5, 6: 1, 'noch ein': 'Wert'}\n",
      "{1: 0.1, 2: 0.5, 3: 20, 4: 10, 5: 5, 6: 1, 'noch ein': 'Wert'}\n"
     ]
    }
   ],
   "source": [
    "#Eine Aufgabe\n",
    "#Erstelle ein Dictionary aus folgenden Dictionarys\n",
    "dict1={1:0.1, 2:0.5}\n",
    "dict2={3:20, 4:10}\n",
    "dict3={5:5,6:1}\n",
    "\n",
    "dict4 = dict1|dict2|dic3        #neu in Python 3.9 fügt Dictionarys zusammen\n",
    "dict4 |= {'noch ein': \"Wert\"}   #klappt auch erst ab 3.9\n",
    "print(dict4)\n",
    "dict1.update(dict2)\n",
    "dict1.update(dict3)\n",
    "dict1.update({'noch ein': \"Wert\"})\n",
    "print(dict1)"
   ]
  },
  {
   "cell_type": "code",
   "execution_count": null,
   "id": "999fcd9f",
   "metadata": {},
   "outputs": [],
   "source": []
  },
  {
   "cell_type": "code",
   "execution_count": null,
   "id": "ea753a15",
   "metadata": {},
   "outputs": [],
   "source": []
  }
 ],
 "metadata": {
  "kernelspec": {
   "display_name": "Python 3 (ipykernel)",
   "language": "python",
   "name": "python3"
  },
  "language_info": {
   "codemirror_mode": {
    "name": "ipython",
    "version": 3
   },
   "file_extension": ".py",
   "mimetype": "text/x-python",
   "name": "python",
   "nbconvert_exporter": "python",
   "pygments_lexer": "ipython3",
   "version": "3.9.7"
  }
 },
 "nbformat": 4,
 "nbformat_minor": 5
}
